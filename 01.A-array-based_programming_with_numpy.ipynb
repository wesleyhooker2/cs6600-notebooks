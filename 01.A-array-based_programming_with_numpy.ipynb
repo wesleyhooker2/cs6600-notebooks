{
 "cells": [
  {
   "cell_type": "markdown",
   "metadata": {},
   "source": [
    "# 01.A: Array-based programming with NumPy\n",
    "It offers a high-performace rich functional vectorized `n-dimentional` array type called `ndarray` which is in implemented in C. It's the prefered Python array **implementation** and many of the other *libraries* we'll be using are built on or depend on it.\n",
    "\n",
    "1. number 1\n",
    "1. number 2\n",
    "3. number 4\n",
    "\n",
    "Let's import it.\n",
    "\n",
    "* item 1\n",
    "* item 2\n",
    "* item 3\n",
    "\n",
    "$\\frac{12}{100}$\n",
    "\n",
    "\n",
    "$\\Sigma_{i = 1}^n \\sqrt{(y - x)^2}$"
   ]
  },
  {
   "cell_type": "code",
   "execution_count": 1,
   "metadata": {},
   "outputs": [],
   "source": [
    "import numpy as np"
   ]
  },
  {
   "cell_type": "markdown",
   "metadata": {},
   "source": [
    "## Creating simple one-dimentional arrays\n",
    "Let's create a simple integer array and another float array from scrach."
   ]
  },
  {
   "cell_type": "code",
   "execution_count": 2,
   "metadata": {},
   "outputs": [
    {
     "name": "stdout",
     "output_type": "stream",
     "text": [
      "[ 1  3  5  7  9 11]\n",
      "[0.   0.05 0.1  0.15 0.2  0.25 0.3  0.35]\n"
     ]
    }
   ],
   "source": [
    "iarr = np.array([1, 3, 5, 7, 9, 11])\n",
    "farr = np.array([0.00, 0.05, 0.10, 0.15, 0.20, 0.25, 0.30, 0.35])\n",
    "\n",
    "print(iarr)\n",
    "print(farr)"
   ]
  },
  {
   "cell_type": "markdown",
   "metadata": {},
   "source": [
    "We can also create an array whose elements are all zeros or ones"
   ]
  },
  {
   "cell_type": "code",
   "execution_count": 3,
   "metadata": {},
   "outputs": [
    {
     "name": "stdout",
     "output_type": "stream",
     "text": [
      "[0. 0. 0. 0. 0. 0. 0. 0. 0. 0.]\n",
      "[1. 1. 1. 1. 1. 1. 1. 1. 1. 1. 1. 1.]\n"
     ]
    }
   ],
   "source": [
    "all_zeros = np.zeros(10)\n",
    "all_ones = np.ones(12)\n",
    "\n",
    "print(all_zeros)\n",
    "print(all_ones)"
   ]
  },
  {
   "cell_type": "markdown",
   "metadata": {},
   "source": [
    "## Array attributes\n",
    "Let's see checkout some attributes of these arrays. First here is the type of these array objects"
   ]
  },
  {
   "cell_type": "code",
   "execution_count": 4,
   "metadata": {},
   "outputs": [
    {
     "data": {
      "text/plain": [
       "numpy.ndarray"
      ]
     },
     "execution_count": 4,
     "metadata": {},
     "output_type": "execute_result"
    }
   ],
   "source": [
    "type(iarr)"
   ]
  },
  {
   "cell_type": "code",
   "execution_count": 5,
   "metadata": {},
   "outputs": [
    {
     "data": {
      "text/plain": [
       "numpy.ndarray"
      ]
     },
     "execution_count": 5,
     "metadata": {},
     "output_type": "execute_result"
    }
   ],
   "source": [
    "type(farr)"
   ]
  },
  {
   "cell_type": "markdown",
   "metadata": {},
   "source": [
    "Both of these objects are of the numpy `ndarray` type: the fundamental data structure in NumPy. Let's see what type are the elements."
   ]
  },
  {
   "cell_type": "code",
   "execution_count": 6,
   "metadata": {},
   "outputs": [
    {
     "data": {
      "text/plain": [
       "dtype('int64')"
      ]
     },
     "execution_count": 6,
     "metadata": {},
     "output_type": "execute_result"
    }
   ],
   "source": [
    "iarr.dtype"
   ]
  },
  {
   "cell_type": "code",
   "execution_count": 7,
   "metadata": {},
   "outputs": [
    {
     "data": {
      "text/plain": [
       "dtype('float64')"
      ]
     },
     "execution_count": 7,
     "metadata": {},
     "output_type": "execute_result"
    }
   ],
   "source": [
    "farr.dtype"
   ]
  },
  {
   "cell_type": "markdown",
   "metadata": {},
   "source": [
    "How many elements are in each array?"
   ]
  },
  {
   "cell_type": "code",
   "execution_count": 8,
   "metadata": {},
   "outputs": [
    {
     "data": {
      "text/plain": [
       "6"
      ]
     },
     "execution_count": 8,
     "metadata": {},
     "output_type": "execute_result"
    }
   ],
   "source": [
    "iarr.size "
   ]
  },
  {
   "cell_type": "code",
   "execution_count": 9,
   "metadata": {},
   "outputs": [
    {
     "data": {
      "text/plain": [
       "8"
      ]
     },
     "execution_count": 9,
     "metadata": {},
     "output_type": "execute_result"
    }
   ],
   "source": [
    "farr.size "
   ]
  },
  {
   "cell_type": "markdown",
   "metadata": {},
   "source": [
    "We can also find out their dimensions using the `ndim` attribute. As we know both are one-dimensional arrays."
   ]
  },
  {
   "cell_type": "code",
   "execution_count": 10,
   "metadata": {},
   "outputs": [
    {
     "data": {
      "text/plain": [
       "1"
      ]
     },
     "execution_count": 10,
     "metadata": {},
     "output_type": "execute_result"
    }
   ],
   "source": [
    "iarr.ndim"
   ]
  },
  {
   "cell_type": "code",
   "execution_count": 11,
   "metadata": {},
   "outputs": [
    {
     "data": {
      "text/plain": [
       "1"
      ]
     },
     "execution_count": 11,
     "metadata": {},
     "output_type": "execute_result"
    }
   ],
   "source": [
    "farr.ndim"
   ]
  },
  {
   "cell_type": "markdown",
   "metadata": {},
   "source": [
    "We can also find out the shapes of these arrays: how many elements in each dimension."
   ]
  },
  {
   "cell_type": "code",
   "execution_count": 12,
   "metadata": {},
   "outputs": [
    {
     "data": {
      "text/plain": [
       "(6,)"
      ]
     },
     "execution_count": 12,
     "metadata": {},
     "output_type": "execute_result"
    }
   ],
   "source": [
    "iarr.shape"
   ]
  },
  {
   "cell_type": "code",
   "execution_count": 13,
   "metadata": {},
   "outputs": [
    {
     "data": {
      "text/plain": [
       "(8,)"
      ]
     },
     "execution_count": 13,
     "metadata": {},
     "output_type": "execute_result"
    }
   ],
   "source": [
    "farr.shape"
   ]
  },
  {
   "cell_type": "markdown",
   "metadata": {},
   "source": [
    "## Reshaping arrays\n",
    "We can reshape these one-dimentional arrays into multiple-dimentional arrays. For example, let's create a new 2D array with 3 rows and 2 columnsby by reshaping `iarr`. "
   ]
  },
  {
   "cell_type": "code",
   "execution_count": 14,
   "metadata": {
    "scrolled": true
   },
   "outputs": [],
   "source": [
    "i2d = iarr.reshape(3, 2)"
   ]
  },
  {
   "cell_type": "markdown",
   "metadata": {},
   "source": [
    "Here is the dimentions and shape of the new 2D array."
   ]
  },
  {
   "cell_type": "code",
   "execution_count": 15,
   "metadata": {},
   "outputs": [
    {
     "name": "stdout",
     "output_type": "stream",
     "text": [
      "2\n",
      "(3, 2)\n"
     ]
    }
   ],
   "source": [
    "print(i2d.ndim)\n",
    "print(i2d.shape)"
   ]
  },
  {
   "cell_type": "markdown",
   "metadata": {},
   "source": [
    "Similarly, let's create a new 3D array (an array of 2D arrays) by reshaping `farr` with two elements in every dimension."
   ]
  },
  {
   "cell_type": "code",
   "execution_count": 16,
   "metadata": {},
   "outputs": [],
   "source": [
    "f3d = farr.reshape(2,2,2)"
   ]
  },
  {
   "cell_type": "markdown",
   "metadata": {},
   "source": [
    "Here is the dimentions and shape of the new 3D array."
   ]
  },
  {
   "cell_type": "code",
   "execution_count": 17,
   "metadata": {},
   "outputs": [
    {
     "name": "stdout",
     "output_type": "stream",
     "text": [
      "3\n",
      "(2, 2, 2)\n"
     ]
    }
   ],
   "source": [
    "print(f3d.ndim)\n",
    "print(f3d.shape)"
   ]
  },
  {
   "cell_type": "markdown",
   "metadata": {},
   "source": [
    "## Creating multi-dimentional arrays\n",
    "We can also create multi-dimentional arrays from scrach. Keep in mind that a 2D array is an array of 1D array. And 3D array is an array of 2D arrays, and so on. Here is a 2D array made of two 1D arrays: one with 10 zeros and another with 10 ones. Each 1D array becomes a row in the new 2D array."
   ]
  },
  {
   "cell_type": "code",
   "execution_count": 18,
   "metadata": {},
   "outputs": [
    {
     "name": "stdout",
     "output_type": "stream",
     "text": [
      "[[0. 0. 0. 0. 0. 0. 0. 0. 0. 0.]\n",
      " [1. 1. 1. 1. 1. 1. 1. 1. 1. 1.]]\n",
      "ndim:  2\n",
      "shape:  (2, 10)\n"
     ]
    }
   ],
   "source": [
    "f2d = np.array([np.zeros(10), np.ones(10)])\n",
    "\n",
    "print(f2d)\n",
    "print(\"ndim: \", f2d.ndim)\n",
    "print(\"shape: \", f2d.shape)"
   ]
  },
  {
   "cell_type": "markdown",
   "metadata": {},
   "source": [
    "Let's create a 3D array that is an array of 3 2D arrays"
   ]
  },
  {
   "cell_type": "code",
   "execution_count": 19,
   "metadata": {},
   "outputs": [
    {
     "name": "stdout",
     "output_type": "stream",
     "text": [
      "[[[0. 0. 0. 0. 0. 0. 0. 0. 0. 0.]\n",
      "  [1. 1. 1. 1. 1. 1. 1. 1. 1. 1.]]\n",
      "\n",
      " [[0. 0. 0. 0. 0. 0. 0. 0. 0. 0.]\n",
      "  [1. 1. 1. 1. 1. 1. 1. 1. 1. 1.]]\n",
      "\n",
      " [[0. 0. 0. 0. 0. 0. 0. 0. 0. 0.]\n",
      "  [1. 1. 1. 1. 1. 1. 1. 1. 1. 1.]]]\n",
      "ndim:  3\n",
      "shape:  (3, 2, 10)\n"
     ]
    }
   ],
   "source": [
    "f3d = np.array([f2d, f2d, f2d])\n",
    "\n",
    "print(f3d)\n",
    "print(\"ndim: \", f3d.ndim)\n",
    "print(\"shape: \", f3d.shape)"
   ]
  },
  {
   "cell_type": "markdown",
   "metadata": {},
   "source": [
    "We can also use the `full` function to create an array of any dimentions (the first argument) and populated with a a given value (the second argument). "
   ]
  },
  {
   "cell_type": "code",
   "execution_count": 20,
   "metadata": {},
   "outputs": [
    {
     "name": "stdout",
     "output_type": "stream",
     "text": [
      "\n",
      "ID array:\n",
      " [7 7 7 7]\n",
      "\n",
      "2D array:\n",
      " [[3 3 3 3 3 3 3]\n",
      " [3 3 3 3 3 3 3]\n",
      " [3 3 3 3 3 3 3]\n",
      " [3 3 3 3 3 3 3]\n",
      " [3 3 3 3 3 3 3]]\n",
      "\n",
      "3D array:\n",
      " [[[9 9 9 9 9 9 9]\n",
      "  [9 9 9 9 9 9 9]]\n",
      "\n",
      " [[9 9 9 9 9 9 9]\n",
      "  [9 9 9 9 9 9 9]]\n",
      "\n",
      " [[9 9 9 9 9 9 9]\n",
      "  [9 9 9 9 9 9 9]]]\n"
     ]
    }
   ],
   "source": [
    "i1d = np.full(4, 7)\n",
    "i2d = np.full((5,7), 3)\n",
    "i3d = np.full((3, 2, 7), 9)\n",
    "\n",
    "print(\"\\nID array:\\n\", i1d)\n",
    "print(\"\\n2D array:\\n\", i2d)\n",
    "print(\"\\n3D array:\\n\", i3d) "
   ]
  },
  {
   "cell_type": "markdown",
   "metadata": {},
   "source": [
    "## Ranges\n",
    "We can also create an array from a range of values. Here are the integers from 0 all the way to 100"
   ]
  },
  {
   "cell_type": "code",
   "execution_count": 21,
   "metadata": {},
   "outputs": [
    {
     "data": {
      "text/plain": [
       "array([  0,   1,   2,   3,   4,   5,   6,   7,   8,   9,  10,  11,  12,\n",
       "        13,  14,  15,  16,  17,  18,  19,  20,  21,  22,  23,  24,  25,\n",
       "        26,  27,  28,  29,  30,  31,  32,  33,  34,  35,  36,  37,  38,\n",
       "        39,  40,  41,  42,  43,  44,  45,  46,  47,  48,  49,  50,  51,\n",
       "        52,  53,  54,  55,  56,  57,  58,  59,  60,  61,  62,  63,  64,\n",
       "        65,  66,  67,  68,  69,  70,  71,  72,  73,  74,  75,  76,  77,\n",
       "        78,  79,  80,  81,  82,  83,  84,  85,  86,  87,  88,  89,  90,\n",
       "        91,  92,  93,  94,  95,  96,  97,  98,  99, 100])"
      ]
     },
     "execution_count": 21,
     "metadata": {},
     "output_type": "execute_result"
    }
   ],
   "source": [
    "np.arange(101)"
   ]
  },
  {
   "cell_type": "markdown",
   "metadata": {},
   "source": [
    "Here is an array with elements ranging from 3(inclusive) to 13 (exclusive)"
   ]
  },
  {
   "cell_type": "code",
   "execution_count": 22,
   "metadata": {},
   "outputs": [
    {
     "name": "stdout",
     "output_type": "stream",
     "text": [
      "[ 3  4  5  6  7  8  9 10 11 12]\n"
     ]
    }
   ],
   "source": [
    "nums = np.arange(3, 13)\n",
    "\n",
    "print(nums)"
   ]
  },
  {
   "cell_type": "markdown",
   "metadata": {},
   "source": [
    "Here is another array with all all the numbers between 3 and 100 that are multiple of 3 (."
   ]
  },
  {
   "cell_type": "code",
   "execution_count": 23,
   "metadata": {},
   "outputs": [
    {
     "data": {
      "text/plain": [
       "array([ 3,  6,  9, 12, 15, 18, 21, 24, 27, 30, 33, 36, 39, 42, 45, 48, 51,\n",
       "       54, 57, 60, 63, 66, 69, 72, 75, 78, 81, 84, 87, 90, 93, 96, 99])"
      ]
     },
     "execution_count": 23,
     "metadata": {},
     "output_type": "execute_result"
    }
   ],
   "source": [
    "np.arange(3, 100, step=3)"
   ]
  },
  {
   "cell_type": "markdown",
   "metadata": {},
   "source": [
    "Sometimes you want to take a closed interval $[a,b]$ and generate $n$ equally sparated numbers within that interval. We use the `np.linspace` function for that. For example, here 9 numbers equally spaced within the interval $[2,4]$ including 2 and 4."
   ]
  },
  {
   "cell_type": "code",
   "execution_count": 24,
   "metadata": {},
   "outputs": [
    {
     "data": {
      "text/plain": [
       "array([2.  , 2.25, 2.5 , 2.75, 3.  , 3.25, 3.5 , 3.75, 4.  ])"
      ]
     },
     "execution_count": 24,
     "metadata": {},
     "output_type": "execute_result"
    }
   ],
   "source": [
    "np.linspace(2, 4, num=9)"
   ]
  },
  {
   "cell_type": "markdown",
   "metadata": {},
   "source": [
    "And if we want to fill the array with a range of values, use the `np.arange` or `np.linespace` functions as the second argument. "
   ]
  },
  {
   "cell_type": "code",
   "execution_count": 25,
   "metadata": {
    "scrolled": true
   },
   "outputs": [
    {
     "name": "stdout",
     "output_type": "stream",
     "text": [
      "\n",
      "ID array:\n",
      " [0 1 2 3]\n",
      "\n",
      "2D array:\n",
      " [[0 1 2 3 4 5 6]\n",
      " [0 1 2 3 4 5 6]\n",
      " [0 1 2 3 4 5 6]\n",
      " [0 1 2 3 4 5 6]\n",
      " [0 1 2 3 4 5 6]]\n",
      "\n",
      "3D array:\n",
      " [[[3.    3.125 3.25  3.375 3.5   3.625 3.75  3.875 4.   ]\n",
      "  [3.    3.125 3.25  3.375 3.5   3.625 3.75  3.875 4.   ]]\n",
      "\n",
      " [[3.    3.125 3.25  3.375 3.5   3.625 3.75  3.875 4.   ]\n",
      "  [3.    3.125 3.25  3.375 3.5   3.625 3.75  3.875 4.   ]]\n",
      "\n",
      " [[3.    3.125 3.25  3.375 3.5   3.625 3.75  3.875 4.   ]\n",
      "  [3.    3.125 3.25  3.375 3.5   3.625 3.75  3.875 4.   ]]]\n"
     ]
    }
   ],
   "source": [
    "i1d = np.full(4, np.arange(4))\n",
    "i2d = np.full((5,7), np.arange(7))\n",
    "i3d = np.full((3, 2, 9), np.linspace(3, 4, num=9))\n",
    "\n",
    "print(\"\\nID array:\\n\", i1d)\n",
    "print(\"\\n2D array:\\n\", i2d)\n",
    "print(\"\\n3D array:\\n\", i3d)"
   ]
  },
  {
   "cell_type": "markdown",
   "metadata": {},
   "source": [
    "## Flattening multi-dimentional arrays\n",
    "We can convert a multi dimentional array into a flat one-dimentional array using `np.flatten()` or `np.ravel()`"
   ]
  },
  {
   "cell_type": "code",
   "execution_count": 26,
   "metadata": {},
   "outputs": [
    {
     "data": {
      "text/plain": [
       "array([3.   , 3.125, 3.25 , 3.375, 3.5  , 3.625, 3.75 , 3.875, 4.   ,\n",
       "       3.   , 3.125, 3.25 , 3.375, 3.5  , 3.625, 3.75 , 3.875, 4.   ,\n",
       "       3.   , 3.125, 3.25 , 3.375, 3.5  , 3.625, 3.75 , 3.875, 4.   ,\n",
       "       3.   , 3.125, 3.25 , 3.375, 3.5  , 3.625, 3.75 , 3.875, 4.   ,\n",
       "       3.   , 3.125, 3.25 , 3.375, 3.5  , 3.625, 3.75 , 3.875, 4.   ,\n",
       "       3.   , 3.125, 3.25 , 3.375, 3.5  , 3.625, 3.75 , 3.875, 4.   ])"
      ]
     },
     "execution_count": 26,
     "metadata": {},
     "output_type": "execute_result"
    }
   ],
   "source": [
    "i3d.flatten()"
   ]
  },
  {
   "cell_type": "code",
   "execution_count": 27,
   "metadata": {},
   "outputs": [
    {
     "data": {
      "text/plain": [
       "array([3.   , 3.125, 3.25 , 3.375, 3.5  , 3.625, 3.75 , 3.875, 4.   ,\n",
       "       3.   , 3.125, 3.25 , 3.375, 3.5  , 3.625, 3.75 , 3.875, 4.   ,\n",
       "       3.   , 3.125, 3.25 , 3.375, 3.5  , 3.625, 3.75 , 3.875, 4.   ,\n",
       "       3.   , 3.125, 3.25 , 3.375, 3.5  , 3.625, 3.75 , 3.875, 4.   ,\n",
       "       3.   , 3.125, 3.25 , 3.375, 3.5  , 3.625, 3.75 , 3.875, 4.   ,\n",
       "       3.   , 3.125, 3.25 , 3.375, 3.5  , 3.625, 3.75 , 3.875, 4.   ])"
      ]
     },
     "execution_count": 27,
     "metadata": {},
     "output_type": "execute_result"
    }
   ],
   "source": [
    "i3d.ravel()"
   ]
  },
  {
   "cell_type": "markdown",
   "metadata": {},
   "source": [
    "## Indexing and slicing\n",
    "Let's start with a 2D array (4 rows by 5 columns"
   ]
  },
  {
   "cell_type": "code",
   "execution_count": 28,
   "metadata": {},
   "outputs": [
    {
     "name": "stdout",
     "output_type": "stream",
     "text": [
      "[[ 1  6 11 16 21]\n",
      " [26 31 36 41 46]\n",
      " [51 56 61 66 71]\n",
      " [76 81 86 91 96]]\n"
     ]
    }
   ],
   "source": [
    "a = np.arange(1, 100, 5).reshape(4, 5)\n",
    "print(a)"
   ]
  },
  {
   "cell_type": "code",
   "execution_count": 29,
   "metadata": {},
   "outputs": [
    {
     "data": {
      "text/plain": [
       "20"
      ]
     },
     "execution_count": 29,
     "metadata": {},
     "output_type": "execute_result"
    }
   ],
   "source": [
    "np.arange(1, 100, 5).size"
   ]
  },
  {
   "cell_type": "markdown",
   "metadata": {},
   "source": [
    "NumPy uses zero-based indexing and gives different ways to index and/or slice arrays. Let's see a few examples.\n",
    "\n",
    "Here is the first element (row 0 and column 0):"
   ]
  },
  {
   "cell_type": "code",
   "execution_count": 30,
   "metadata": {},
   "outputs": [
    {
     "data": {
      "text/plain": [
       "1"
      ]
     },
     "execution_count": 30,
     "metadata": {},
     "output_type": "execute_result"
    }
   ],
   "source": [
    "a[0,0]"
   ]
  },
  {
   "cell_type": "markdown",
   "metadata": {},
   "source": [
    "And the last element (row 3 and column 4):"
   ]
  },
  {
   "cell_type": "code",
   "execution_count": 31,
   "metadata": {},
   "outputs": [
    {
     "data": {
      "text/plain": [
       "96"
      ]
     },
     "execution_count": 31,
     "metadata": {},
     "output_type": "execute_result"
    }
   ],
   "source": [
    "a[3,4]"
   ]
  },
  {
   "cell_type": "markdown",
   "metadata": {},
   "source": [
    "The first row:"
   ]
  },
  {
   "cell_type": "code",
   "execution_count": 32,
   "metadata": {},
   "outputs": [
    {
     "data": {
      "text/plain": [
       "array([ 1,  6, 11, 16, 21])"
      ]
     },
     "execution_count": 32,
     "metadata": {},
     "output_type": "execute_result"
    }
   ],
   "source": [
    "a[0,:]"
   ]
  },
  {
   "cell_type": "markdown",
   "metadata": {},
   "source": [
    "The last row: "
   ]
  },
  {
   "cell_type": "code",
   "execution_count": 33,
   "metadata": {},
   "outputs": [
    {
     "data": {
      "text/plain": [
       "array([76, 81, 86, 91, 96])"
      ]
     },
     "execution_count": 33,
     "metadata": {},
     "output_type": "execute_result"
    }
   ],
   "source": [
    "a[3,:]"
   ]
  },
  {
   "cell_type": "markdown",
   "metadata": {},
   "source": [
    "The first three rows:"
   ]
  },
  {
   "cell_type": "code",
   "execution_count": 34,
   "metadata": {},
   "outputs": [
    {
     "data": {
      "text/plain": [
       "array([[ 1,  6, 11, 16, 21],\n",
       "       [26, 31, 36, 41, 46],\n",
       "       [51, 56, 61, 66, 71]])"
      ]
     },
     "execution_count": 34,
     "metadata": {},
     "output_type": "execute_result"
    }
   ],
   "source": [
    "a[:3, :]"
   ]
  },
  {
   "cell_type": "markdown",
   "metadata": {},
   "source": [
    "The last two rows:"
   ]
  },
  {
   "cell_type": "code",
   "execution_count": 35,
   "metadata": {},
   "outputs": [
    {
     "data": {
      "text/plain": [
       "array([[51, 56, 61, 66, 71],\n",
       "       [76, 81, 86, 91, 96]])"
      ]
     },
     "execution_count": 35,
     "metadata": {},
     "output_type": "execute_result"
    }
   ],
   "source": [
    "a[2:, :]"
   ]
  },
  {
   "cell_type": "markdown",
   "metadata": {},
   "source": [
    "The second and last rows (starting at row 1, ending at 1 + the desired row, step = 2):"
   ]
  },
  {
   "cell_type": "code",
   "execution_count": 36,
   "metadata": {},
   "outputs": [
    {
     "data": {
      "text/plain": [
       "array([[26, 31, 36, 41, 46],\n",
       "       [76, 81, 86, 91, 96]])"
      ]
     },
     "execution_count": 36,
     "metadata": {},
     "output_type": "execute_result"
    }
   ],
   "source": [
    "a[1:4:2,:]"
   ]
  },
  {
   "cell_type": "markdown",
   "metadata": {},
   "source": [
    "The first column:\n"
   ]
  },
  {
   "cell_type": "code",
   "execution_count": 37,
   "metadata": {},
   "outputs": [
    {
     "data": {
      "text/plain": [
       "array([ 1, 26, 51, 76])"
      ]
     },
     "execution_count": 37,
     "metadata": {},
     "output_type": "execute_result"
    }
   ],
   "source": [
    "a[:,0]"
   ]
  },
  {
   "cell_type": "markdown",
   "metadata": {},
   "source": [
    "The second column: "
   ]
  },
  {
   "cell_type": "code",
   "execution_count": 38,
   "metadata": {},
   "outputs": [
    {
     "data": {
      "text/plain": [
       "array([ 6, 31, 56, 81])"
      ]
     },
     "execution_count": 38,
     "metadata": {},
     "output_type": "execute_result"
    }
   ],
   "source": [
    " a[:,1]"
   ]
  },
  {
   "cell_type": "markdown",
   "metadata": {},
   "source": [
    "The last column:"
   ]
  },
  {
   "cell_type": "code",
   "execution_count": 39,
   "metadata": {},
   "outputs": [
    {
     "data": {
      "text/plain": [
       "array([21, 46, 71, 96])"
      ]
     },
     "execution_count": 39,
     "metadata": {},
     "output_type": "execute_result"
    }
   ],
   "source": [
    "a[:,4]"
   ]
  },
  {
   "cell_type": "markdown",
   "metadata": {},
   "source": [
    "The first and last columns (starting at column 0, ending at 1 + desired column, step = 4):"
   ]
  },
  {
   "cell_type": "code",
   "execution_count": 40,
   "metadata": {
    "scrolled": true
   },
   "outputs": [
    {
     "data": {
      "text/plain": [
       "array([[ 1, 21],\n",
       "       [26, 46],\n",
       "       [51, 71],\n",
       "       [76, 96]])"
      ]
     },
     "execution_count": 40,
     "metadata": {},
     "output_type": "execute_result"
    }
   ],
   "source": [
    "a[:,0:5:4]"
   ]
  },
  {
   "cell_type": "markdown",
   "metadata": {},
   "source": [
    "All the columns except the first two:"
   ]
  },
  {
   "cell_type": "code",
   "execution_count": 41,
   "metadata": {},
   "outputs": [
    {
     "data": {
      "text/plain": [
       "array([[11, 16, 21],\n",
       "       [36, 41, 46],\n",
       "       [61, 66, 71],\n",
       "       [86, 91, 96]])"
      ]
     },
     "execution_count": 41,
     "metadata": {},
     "output_type": "execute_result"
    }
   ],
   "source": [
    "a[:, 2:]"
   ]
  },
  {
   "cell_type": "markdown",
   "metadata": {},
   "source": [
    "All the columns except the last three:"
   ]
  },
  {
   "cell_type": "code",
   "execution_count": 42,
   "metadata": {},
   "outputs": [
    {
     "data": {
      "text/plain": [
       "array([[ 1,  6],\n",
       "       [26, 31],\n",
       "       [51, 56],\n",
       "       [76, 81]])"
      ]
     },
     "execution_count": 42,
     "metadata": {},
     "output_type": "execute_result"
    }
   ],
   "source": [
    "a[:, :2]"
   ]
  },
  {
   "cell_type": "markdown",
   "metadata": {},
   "source": [
    "The whole array:"
   ]
  },
  {
   "cell_type": "code",
   "execution_count": 43,
   "metadata": {},
   "outputs": [
    {
     "data": {
      "text/plain": [
       "array([[ 1,  6, 11, 16, 21],\n",
       "       [26, 31, 36, 41, 46],\n",
       "       [51, 56, 61, 66, 71],\n",
       "       [76, 81, 86, 91, 96]])"
      ]
     },
     "execution_count": 43,
     "metadata": {},
     "output_type": "execute_result"
    }
   ],
   "source": [
    "a"
   ]
  },
  {
   "cell_type": "code",
   "execution_count": 44,
   "metadata": {},
   "outputs": [
    {
     "data": {
      "text/plain": [
       "array([[ 1,  6, 11, 16, 21],\n",
       "       [26, 31, 36, 41, 46],\n",
       "       [51, 56, 61, 66, 71],\n",
       "       [76, 81, 86, 91, 96]])"
      ]
     },
     "execution_count": 44,
     "metadata": {},
     "output_type": "execute_result"
    }
   ],
   "source": [
    "a[:,:]"
   ]
  },
  {
   "cell_type": "code",
   "execution_count": 45,
   "metadata": {},
   "outputs": [
    {
     "data": {
      "text/plain": [
       "array([[ 1,  6, 11, 16, 21],\n",
       "       [26, 31, 36, 41, 46],\n",
       "       [51, 56, 61, 66, 71],\n",
       "       [76, 81, 86, 91, 96]])"
      ]
     },
     "execution_count": 45,
     "metadata": {},
     "output_type": "execute_result"
    }
   ],
   "source": [
    "a[::,::]"
   ]
  },
  {
   "cell_type": "markdown",
   "metadata": {},
   "source": [
    "The middle three columns of the middle two rows:"
   ]
  },
  {
   "cell_type": "code",
   "execution_count": 46,
   "metadata": {},
   "outputs": [
    {
     "data": {
      "text/plain": [
       "array([[31, 36, 41],\n",
       "       [56, 61, 66]])"
      ]
     },
     "execution_count": 46,
     "metadata": {},
     "output_type": "execute_result"
    }
   ],
   "source": [
    "a[1:3:1, 1:4:1]"
   ]
  },
  {
   "cell_type": "markdown",
   "metadata": {},
   "source": [
    "### Consitional expressions\n",
    "We can also use array boolean expressions to extract array elements. For example, here is an array of all the odd elements in `a`:"
   ]
  },
  {
   "cell_type": "code",
   "execution_count": 47,
   "metadata": {
    "scrolled": true
   },
   "outputs": [
    {
     "data": {
      "text/plain": [
       "array([ 1, 11, 21, 31, 41, 51, 61, 71, 81, 91])"
      ]
     },
     "execution_count": 47,
     "metadata": {},
     "output_type": "execute_result"
    }
   ],
   "source": [
    "a[a % 2 != 0]"
   ]
  },
  {
   "cell_type": "markdown",
   "metadata": {},
   "source": [
    "And here are only the elements that are < 50:"
   ]
  },
  {
   "cell_type": "code",
   "execution_count": 48,
   "metadata": {},
   "outputs": [
    {
     "data": {
      "text/plain": [
       "array([ 1,  6, 11, 16, 21, 26, 31, 36, 41, 46])"
      ]
     },
     "execution_count": 48,
     "metadata": {},
     "output_type": "execute_result"
    }
   ],
   "source": [
    "a[a < 50]"
   ]
  },
  {
   "cell_type": "markdown",
   "metadata": {},
   "source": [
    "We can use these boolean expressions with the `np.where` to return arrays with certain properties. For example, the following zero out all the non-odd elements in the array `a`"
   ]
  },
  {
   "cell_type": "code",
   "execution_count": 49,
   "metadata": {},
   "outputs": [
    {
     "data": {
      "text/plain": [
       "array([[ 1,  0, 11,  0, 21],\n",
       "       [ 0, 31,  0, 41,  0],\n",
       "       [51,  0, 61,  0, 71],\n",
       "       [ 0, 81,  0, 91,  0]])"
      ]
     },
     "execution_count": 49,
     "metadata": {},
     "output_type": "execute_result"
    }
   ],
   "source": [
    "np.where(a % 2 != 0, a, 0)"
   ]
  },
  {
   "cell_type": "markdown",
   "metadata": {},
   "source": [
    "while the following statement returns an array where any element with value between 11 and 60 is replaced with -1:"
   ]
  },
  {
   "cell_type": "code",
   "execution_count": 50,
   "metadata": {
    "scrolled": false
   },
   "outputs": [
    {
     "data": {
      "text/plain": [
       "array([[ 1,  6, -1, -1, -1],\n",
       "       [-1, -1, -1, -1, -1],\n",
       "       [-1, -1, 61, 66, 71],\n",
       "       [76, 81, 86, 91, 96]])"
      ]
     },
     "execution_count": 50,
     "metadata": {},
     "output_type": "execute_result"
    }
   ],
   "source": [
    "np.where(np.logical_and(a >= 11, a <= 60), -1, a)"
   ]
  },
  {
   "cell_type": "markdown",
   "metadata": {},
   "source": [
    "## Fancy indexing\n",
    "We slice an array using an array of indices. Given the array "
   ]
  },
  {
   "cell_type": "code",
   "execution_count": 51,
   "metadata": {
    "scrolled": false
   },
   "outputs": [
    {
     "name": "stdout",
     "output_type": "stream",
     "text": [
      "[[ 1  2  3]\n",
      " [ 4  5  6]\n",
      " [ 7  8  9]\n",
      " [10 11 12]\n",
      " [13 14 15]\n",
      " [16 17 18]\n",
      " [19 20 21]\n",
      " [22 23 24]\n",
      " [25 26 27]\n",
      " [28 29 30]\n",
      " [31 32 33]\n",
      " [34 35 36]\n",
      " [37 38 39]\n",
      " [40 41 42]\n",
      " [43 44 45]\n",
      " [46 47 48]\n",
      " [49 50 51]\n",
      " [52 53 54]\n",
      " [55 56 57]\n",
      " [58 59 60]\n",
      " [61 62 63]\n",
      " [64 65 66]\n",
      " [67 68 69]\n",
      " [70 71 72]\n",
      " [73 74 75]\n",
      " [76 77 78]\n",
      " [79 80 81]\n",
      " [82 83 84]\n",
      " [85 86 87]\n",
      " [88 89 90]\n",
      " [91 92 93]\n",
      " [94 95 96]\n",
      " [97 98 99]]\n"
     ]
    }
   ],
   "source": [
    "a = np.arange(1, 100).reshape(33, 3)\n",
    "\n",
    "print(a)"
   ]
  },
  {
   "cell_type": "markdown",
   "metadata": {},
   "source": [
    "Here is an array containing first, third and tenth rows of `a`:"
   ]
  },
  {
   "cell_type": "code",
   "execution_count": 52,
   "metadata": {},
   "outputs": [
    {
     "data": {
      "text/plain": [
       "array([[ 1,  2,  3],\n",
       "       [ 7,  8,  9],\n",
       "       [28, 29, 30]])"
      ]
     },
     "execution_count": 52,
     "metadata": {},
     "output_type": "execute_result"
    }
   ],
   "source": [
    "a[[0, 2, 9]]"
   ]
  },
  {
   "cell_type": "markdown",
   "metadata": {},
   "source": [
    "And here is an array containing the odd rows only of `a`:"
   ]
  },
  {
   "cell_type": "code",
   "execution_count": 53,
   "metadata": {},
   "outputs": [
    {
     "data": {
      "text/plain": [
       "array([[ 4,  5,  6],\n",
       "       [10, 11, 12],\n",
       "       [16, 17, 18],\n",
       "       [22, 23, 24],\n",
       "       [28, 29, 30],\n",
       "       [34, 35, 36],\n",
       "       [40, 41, 42],\n",
       "       [46, 47, 48],\n",
       "       [52, 53, 54],\n",
       "       [58, 59, 60],\n",
       "       [64, 65, 66],\n",
       "       [70, 71, 72],\n",
       "       [76, 77, 78],\n",
       "       [82, 83, 84],\n",
       "       [88, 89, 90],\n",
       "       [94, 95, 96]])"
      ]
     },
     "execution_count": 53,
     "metadata": {},
     "output_type": "execute_result"
    }
   ],
   "source": [
    "a[np.arange(1,33, 2)]"
   ]
  },
  {
   "cell_type": "markdown",
   "metadata": {},
   "source": [
    "## Array arithmetic\n",
    "Given to arrays of the same shape, we can perform element-wise arthmetic operations on these arrays. \n",
    "\n",
    "Let arrays `a` and `b` be the following:"
   ]
  },
  {
   "cell_type": "code",
   "execution_count": 54,
   "metadata": {},
   "outputs": [],
   "source": [
    "a = np.arange(1, 19, 2).reshape(3,3)\n",
    "b = np.arange(2, 19, 2).reshape(3,3)"
   ]
  },
  {
   "cell_type": "code",
   "execution_count": 55,
   "metadata": {},
   "outputs": [
    {
     "data": {
      "text/plain": [
       "array([[ 1,  3,  5],\n",
       "       [ 7,  9, 11],\n",
       "       [13, 15, 17]])"
      ]
     },
     "execution_count": 55,
     "metadata": {},
     "output_type": "execute_result"
    }
   ],
   "source": [
    "a"
   ]
  },
  {
   "cell_type": "code",
   "execution_count": 56,
   "metadata": {},
   "outputs": [
    {
     "data": {
      "text/plain": [
       "array([[ 2,  4,  6],\n",
       "       [ 8, 10, 12],\n",
       "       [14, 16, 18]])"
      ]
     },
     "execution_count": 56,
     "metadata": {},
     "output_type": "execute_result"
    }
   ],
   "source": [
    "b"
   ]
  },
  {
   "cell_type": "markdown",
   "metadata": {},
   "source": [
    "We can now perform the following element-by-element arithmetic and logical operations without any loops."
   ]
  },
  {
   "cell_type": "code",
   "execution_count": 57,
   "metadata": {},
   "outputs": [
    {
     "data": {
      "text/plain": [
       "array([[ 3,  7, 11],\n",
       "       [15, 19, 23],\n",
       "       [27, 31, 35]])"
      ]
     },
     "execution_count": 57,
     "metadata": {},
     "output_type": "execute_result"
    }
   ],
   "source": [
    "a + b"
   ]
  },
  {
   "cell_type": "code",
   "execution_count": 58,
   "metadata": {},
   "outputs": [
    {
     "data": {
      "text/plain": [
       "array([[-1, -1, -1],\n",
       "       [-1, -1, -1],\n",
       "       [-1, -1, -1]])"
      ]
     },
     "execution_count": 58,
     "metadata": {},
     "output_type": "execute_result"
    }
   ],
   "source": [
    "a - b"
   ]
  },
  {
   "cell_type": "code",
   "execution_count": 59,
   "metadata": {},
   "outputs": [
    {
     "data": {
      "text/plain": [
       "array([[  2,  12,  30],\n",
       "       [ 56,  90, 132],\n",
       "       [182, 240, 306]])"
      ]
     },
     "execution_count": 59,
     "metadata": {},
     "output_type": "execute_result"
    }
   ],
   "source": [
    "a * b"
   ]
  },
  {
   "cell_type": "code",
   "execution_count": 60,
   "metadata": {},
   "outputs": [
    {
     "data": {
      "text/plain": [
       "array([[0.5       , 0.75      , 0.83333333],\n",
       "       [0.875     , 0.9       , 0.91666667],\n",
       "       [0.92857143, 0.9375    , 0.94444444]])"
      ]
     },
     "execution_count": 60,
     "metadata": {},
     "output_type": "execute_result"
    }
   ],
   "source": [
    "a / b"
   ]
  },
  {
   "cell_type": "code",
   "execution_count": 61,
   "metadata": {},
   "outputs": [
    {
     "data": {
      "text/plain": [
       "array([[0, 1, 1],\n",
       "       [1, 1, 1],\n",
       "       [1, 1, 1]])"
      ]
     },
     "execution_count": 61,
     "metadata": {},
     "output_type": "execute_result"
    }
   ],
   "source": [
    "b % a"
   ]
  },
  {
   "cell_type": "code",
   "execution_count": 62,
   "metadata": {},
   "outputs": [
    {
     "data": {
      "text/plain": [
       "array([[ True,  True,  True],\n",
       "       [ True,  True,  True],\n",
       "       [ True,  True,  True]])"
      ]
     },
     "execution_count": 62,
     "metadata": {},
     "output_type": "execute_result"
    }
   ],
   "source": [
    "a < b"
   ]
  },
  {
   "cell_type": "code",
   "execution_count": 63,
   "metadata": {
    "scrolled": true
   },
   "outputs": [
    {
     "data": {
      "text/plain": [
       "array([[False, False, False],\n",
       "       [False, False, False],\n",
       "       [False, False, False]])"
      ]
     },
     "execution_count": 63,
     "metadata": {},
     "output_type": "execute_result"
    }
   ],
   "source": [
    "b < a"
   ]
  },
  {
   "cell_type": "markdown",
   "metadata": {},
   "source": [
    "## Matrix operations\n",
    "Say that we have the following matrices:\n",
    "\n",
    "$ A = \\begin{bmatrix} 1 & 2 & 1 \\\\ 3 & 0 & 1 \\\\ 0 & 2 & 4 \\end{bmatrix}$\n",
    "\n",
    "$ B = \\begin{bmatrix} 3 & 1 & 2 \\\\ 1 & 1 & 0 \\\\ 1 & 3 & 1 \\end{bmatrix}$\n",
    "\n",
    "$ v = \\begin{bmatrix} 1 \\\\ 3  \\\\ 2  \\end{bmatrix}$\n",
    "\n",
    "We can create three numpy arrays for them as follows:"
   ]
  },
  {
   "cell_type": "code",
   "execution_count": 64,
   "metadata": {},
   "outputs": [
    {
     "name": "stdout",
     "output_type": "stream",
     "text": [
      "[[1 2 1]\n",
      " [3 0 1]\n",
      " [0 2 4]]\n",
      "[[3 1 2]\n",
      " [1 1 0]\n",
      " [1 3 1]]\n",
      "[[1]\n",
      " [3]\n",
      " [2]]\n"
     ]
    }
   ],
   "source": [
    "A = np.array([[1,2,1], [3, 0, 1], [0, 2, 4]])\n",
    "B= np.array([3, 1, 2, 1, 1, 0, 1, 3, 1]).reshape(3,3)\n",
    "v = np.array([1, 3, 2]).reshape(3,1)\n",
    "\n",
    "print(A)\n",
    "print(B)\n",
    "print(v)"
   ]
  },
  {
   "cell_type": "markdown",
   "metadata": {},
   "source": [
    "Now can now perform the matrix operations we know from linear algebra. Here are a few matrix expressions. \n",
    "\n",
    "$A + B$:"
   ]
  },
  {
   "cell_type": "code",
   "execution_count": 65,
   "metadata": {
    "scrolled": true
   },
   "outputs": [
    {
     "data": {
      "text/plain": [
       "array([[4, 3, 3],\n",
       "       [4, 1, 1],\n",
       "       [1, 5, 5]])"
      ]
     },
     "execution_count": 65,
     "metadata": {},
     "output_type": "execute_result"
    }
   ],
   "source": [
    "A + B"
   ]
  },
  {
   "cell_type": "markdown",
   "metadata": {},
   "source": [
    "$3B$:"
   ]
  },
  {
   "cell_type": "code",
   "execution_count": 66,
   "metadata": {},
   "outputs": [
    {
     "data": {
      "text/plain": [
       "array([[9, 3, 6],\n",
       "       [3, 3, 0],\n",
       "       [3, 9, 3]])"
      ]
     },
     "execution_count": 66,
     "metadata": {},
     "output_type": "execute_result"
    }
   ],
   "source": [
    "3 * B"
   ]
  },
  {
   "cell_type": "markdown",
   "metadata": {},
   "source": [
    "$A - 3B$:"
   ]
  },
  {
   "cell_type": "code",
   "execution_count": 67,
   "metadata": {},
   "outputs": [
    {
     "data": {
      "text/plain": [
       "array([[-8, -1, -5],\n",
       "       [ 0, -3,  1],\n",
       "       [-3, -7,  1]])"
      ]
     },
     "execution_count": 67,
     "metadata": {},
     "output_type": "execute_result"
    }
   ],
   "source": [
    "A - 3 * B"
   ]
  },
  {
   "cell_type": "markdown",
   "metadata": {},
   "source": [
    "$A \\times B$:"
   ]
  },
  {
   "cell_type": "code",
   "execution_count": 68,
   "metadata": {},
   "outputs": [
    {
     "data": {
      "text/plain": [
       "array([[ 6,  6,  3],\n",
       "       [10,  6,  7],\n",
       "       [ 6, 14,  4]])"
      ]
     },
     "execution_count": 68,
     "metadata": {},
     "output_type": "execute_result"
    }
   ],
   "source": [
    "A.dot(B)"
   ]
  },
  {
   "cell_type": "markdown",
   "metadata": {},
   "source": [
    "which is not the same as $B \\times A$:"
   ]
  },
  {
   "cell_type": "code",
   "execution_count": 69,
   "metadata": {},
   "outputs": [
    {
     "data": {
      "text/plain": [
       "array([[ 6, 10, 12],\n",
       "       [ 4,  2,  2],\n",
       "       [10,  4,  8]])"
      ]
     },
     "execution_count": 69,
     "metadata": {},
     "output_type": "execute_result"
    }
   ],
   "source": [
    "B.dot(A)"
   ]
  },
  {
   "cell_type": "markdown",
   "metadata": {},
   "source": [
    "And here is the determinant of $A$ which is denoted by $|A|$:"
   ]
  },
  {
   "cell_type": "code",
   "execution_count": 70,
   "metadata": {},
   "outputs": [
    {
     "data": {
      "text/plain": [
       "-19.999999999999996"
      ]
     },
     "execution_count": 70,
     "metadata": {},
     "output_type": "execute_result"
    }
   ],
   "source": [
    "np.linalg.det(A)"
   ]
  },
  {
   "cell_type": "markdown",
   "metadata": {},
   "source": [
    "And the transpose of $B$ which is denoted as $B^T$:"
   ]
  },
  {
   "cell_type": "code",
   "execution_count": 71,
   "metadata": {
    "scrolled": true
   },
   "outputs": [
    {
     "data": {
      "text/plain": [
       "array([[3, 1, 1],\n",
       "       [1, 1, 3],\n",
       "       [2, 0, 1]])"
      ]
     },
     "execution_count": 71,
     "metadata": {},
     "output_type": "execute_result"
    }
   ],
   "source": [
    "B.T"
   ]
  },
  {
   "cell_type": "markdown",
   "metadata": {},
   "source": [
    "Notice that $v \\times A$ is not valid because dimention misalignment. Uncomment the statement below to see the error"
   ]
  },
  {
   "cell_type": "code",
   "execution_count": 72,
   "metadata": {},
   "outputs": [],
   "source": [
    "# v.dot(A)"
   ]
  },
  {
   "cell_type": "markdown",
   "metadata": {},
   "source": [
    "However, $A \\times v$ is valid:"
   ]
  },
  {
   "cell_type": "code",
   "execution_count": 73,
   "metadata": {},
   "outputs": [
    {
     "data": {
      "text/plain": [
       "array([[ 9],\n",
       "       [ 5],\n",
       "       [14]])"
      ]
     },
     "execution_count": 73,
     "metadata": {},
     "output_type": "execute_result"
    }
   ],
   "source": [
    "A.dot(v)"
   ]
  },
  {
   "cell_type": "markdown",
   "metadata": {},
   "source": [
    "And so is  $v^T \\times A$:"
   ]
  },
  {
   "cell_type": "code",
   "execution_count": 74,
   "metadata": {},
   "outputs": [
    {
     "data": {
      "text/plain": [
       "array([[10,  6, 12]])"
      ]
     },
     "execution_count": 74,
     "metadata": {},
     "output_type": "execute_result"
    }
   ],
   "source": [
    "v.T.dot(A)"
   ]
  },
  {
   "cell_type": "markdown",
   "metadata": {},
   "source": [
    "Finally we can calculate the inverse matrix of $A$ denoted as $A^{-1}"
   ]
  },
  {
   "cell_type": "code",
   "execution_count": 75,
   "metadata": {},
   "outputs": [],
   "source": [
    "Ainv = np.linalg.inv(A)"
   ]
  },
  {
   "cell_type": "markdown",
   "metadata": {},
   "source": [
    "which we can verify by the multipication $A \\times A^{-1}$"
   ]
  },
  {
   "cell_type": "code",
   "execution_count": 76,
   "metadata": {
    "scrolled": true
   },
   "outputs": [
    {
     "data": {
      "text/plain": [
       "array([[ 1.,  0.,  0.],\n",
       "       [ 0.,  1.,  0.],\n",
       "       [-0.,  0.,  1.]])"
      ]
     },
     "execution_count": 76,
     "metadata": {},
     "output_type": "execute_result"
    }
   ],
   "source": [
    "A.dot(np.linalg.inv(A)).round()"
   ]
  },
  {
   "cell_type": "markdown",
   "metadata": {},
   "source": [
    "which should be the same as the identity matrix $I$."
   ]
  },
  {
   "cell_type": "code",
   "execution_count": 77,
   "metadata": {},
   "outputs": [
    {
     "data": {
      "text/plain": [
       "array([[1., 0., 0.],\n",
       "       [0., 1., 0.],\n",
       "       [0., 0., 1.]])"
      ]
     },
     "execution_count": 77,
     "metadata": {},
     "output_type": "execute_result"
    }
   ],
   "source": [
    "np.eye(3)"
   ]
  },
  {
   "cell_type": "markdown",
   "metadata": {},
   "source": [
    "## Universal element-wise functions\n",
    "Given the array $A$ we can caluculat the square root, absolute value, sin, cos, etc of its elements "
   ]
  },
  {
   "cell_type": "code",
   "execution_count": 78,
   "metadata": {},
   "outputs": [
    {
     "data": {
      "text/plain": [
       "array([[1, 2, 1],\n",
       "       [3, 0, 1],\n",
       "       [0, 2, 4]])"
      ]
     },
     "execution_count": 78,
     "metadata": {},
     "output_type": "execute_result"
    }
   ],
   "source": [
    "A"
   ]
  },
  {
   "cell_type": "code",
   "execution_count": 79,
   "metadata": {},
   "outputs": [
    {
     "data": {
      "text/plain": [
       "array([[1.        , 1.41421356, 1.        ],\n",
       "       [1.73205081, 0.        , 1.        ],\n",
       "       [0.        , 1.41421356, 2.        ]])"
      ]
     },
     "execution_count": 79,
     "metadata": {},
     "output_type": "execute_result"
    }
   ],
   "source": [
    "np.sqrt(A)"
   ]
  },
  {
   "cell_type": "code",
   "execution_count": 80,
   "metadata": {},
   "outputs": [
    {
     "data": {
      "text/plain": [
       "array([[1, 2, 1],\n",
       "       [3, 0, 1],\n",
       "       [0, 2, 4]])"
      ]
     },
     "execution_count": 80,
     "metadata": {},
     "output_type": "execute_result"
    }
   ],
   "source": [
    "np.abs(A)"
   ]
  },
  {
   "cell_type": "code",
   "execution_count": 81,
   "metadata": {},
   "outputs": [
    {
     "data": {
      "text/plain": [
       "array([[ 0.84147098,  0.90929743,  0.84147098],\n",
       "       [ 0.14112001,  0.        ,  0.84147098],\n",
       "       [ 0.        ,  0.90929743, -0.7568025 ]])"
      ]
     },
     "execution_count": 81,
     "metadata": {},
     "output_type": "execute_result"
    }
   ],
   "source": [
    "np.sin(A)"
   ]
  },
  {
   "cell_type": "code",
   "execution_count": 82,
   "metadata": {},
   "outputs": [
    {
     "data": {
      "text/plain": [
       "array([[ 2.71828183,  7.3890561 ,  2.71828183],\n",
       "       [20.08553692,  1.        ,  2.71828183],\n",
       "       [ 1.        ,  7.3890561 , 54.59815003]])"
      ]
     },
     "execution_count": 82,
     "metadata": {},
     "output_type": "execute_result"
    }
   ],
   "source": [
    "np.exp(A)"
   ]
  },
  {
   "cell_type": "markdown",
   "metadata": {},
   "source": [
    "## Statistical functions\n",
    "There are also functions for summerizing arrays. Here are some examples:"
   ]
  },
  {
   "cell_type": "code",
   "execution_count": 83,
   "metadata": {},
   "outputs": [
    {
     "data": {
      "text/plain": [
       "array([[1, 2, 1],\n",
       "       [3, 0, 1],\n",
       "       [0, 2, 4]])"
      ]
     },
     "execution_count": 83,
     "metadata": {},
     "output_type": "execute_result"
    }
   ],
   "source": [
    "A"
   ]
  },
  {
   "cell_type": "code",
   "execution_count": 84,
   "metadata": {},
   "outputs": [
    {
     "data": {
      "text/plain": [
       "4"
      ]
     },
     "execution_count": 84,
     "metadata": {},
     "output_type": "execute_result"
    }
   ],
   "source": [
    "np.max(A)"
   ]
  },
  {
   "cell_type": "code",
   "execution_count": 85,
   "metadata": {},
   "outputs": [
    {
     "data": {
      "text/plain": [
       "4"
      ]
     },
     "execution_count": 85,
     "metadata": {},
     "output_type": "execute_result"
    }
   ],
   "source": [
    "A.max()"
   ]
  },
  {
   "cell_type": "code",
   "execution_count": 86,
   "metadata": {},
   "outputs": [
    {
     "data": {
      "text/plain": [
       "0"
      ]
     },
     "execution_count": 86,
     "metadata": {},
     "output_type": "execute_result"
    }
   ],
   "source": [
    "np.min(A)"
   ]
  },
  {
   "cell_type": "code",
   "execution_count": 87,
   "metadata": {},
   "outputs": [
    {
     "data": {
      "text/plain": [
       "0"
      ]
     },
     "execution_count": 87,
     "metadata": {},
     "output_type": "execute_result"
    }
   ],
   "source": [
    "A.min()"
   ]
  },
  {
   "cell_type": "code",
   "execution_count": 88,
   "metadata": {},
   "outputs": [
    {
     "data": {
      "text/plain": [
       "14"
      ]
     },
     "execution_count": 88,
     "metadata": {},
     "output_type": "execute_result"
    }
   ],
   "source": [
    "np.sum(A)"
   ]
  },
  {
   "cell_type": "code",
   "execution_count": 89,
   "metadata": {},
   "outputs": [
    {
     "data": {
      "text/plain": [
       "14"
      ]
     },
     "execution_count": 89,
     "metadata": {},
     "output_type": "execute_result"
    }
   ],
   "source": [
    "A.sum()"
   ]
  },
  {
   "cell_type": "code",
   "execution_count": 90,
   "metadata": {},
   "outputs": [
    {
     "data": {
      "text/plain": [
       "array([ 1,  3,  4,  7,  7,  8,  8, 10, 14])"
      ]
     },
     "execution_count": 90,
     "metadata": {},
     "output_type": "execute_result"
    }
   ],
   "source": [
    "np.cumsum(A)   # Cummulative sum"
   ]
  },
  {
   "cell_type": "code",
   "execution_count": 91,
   "metadata": {},
   "outputs": [
    {
     "data": {
      "text/plain": [
       "array([ 1,  3,  4,  7,  7,  8,  8, 10, 14])"
      ]
     },
     "execution_count": 91,
     "metadata": {},
     "output_type": "execute_result"
    }
   ],
   "source": [
    "A.cumsum()     # Cummulative sum"
   ]
  },
  {
   "cell_type": "code",
   "execution_count": 92,
   "metadata": {},
   "outputs": [
    {
     "data": {
      "text/plain": [
       "1.5555555555555556"
      ]
     },
     "execution_count": 92,
     "metadata": {},
     "output_type": "execute_result"
    }
   ],
   "source": [
    "np.mean(A)     # average"
   ]
  },
  {
   "cell_type": "code",
   "execution_count": 93,
   "metadata": {},
   "outputs": [
    {
     "data": {
      "text/plain": [
       "1.5555555555555556"
      ]
     },
     "execution_count": 93,
     "metadata": {},
     "output_type": "execute_result"
    }
   ],
   "source": [
    "A.mean()       # average"
   ]
  },
  {
   "cell_type": "code",
   "execution_count": 94,
   "metadata": {},
   "outputs": [
    {
     "data": {
      "text/plain": [
       "1.5802469135802468"
      ]
     },
     "execution_count": 94,
     "metadata": {},
     "output_type": "execute_result"
    }
   ],
   "source": [
    "np.var(A)      # variance"
   ]
  },
  {
   "cell_type": "code",
   "execution_count": 95,
   "metadata": {},
   "outputs": [
    {
     "data": {
      "text/plain": [
       "1.5802469135802468"
      ]
     },
     "execution_count": 95,
     "metadata": {},
     "output_type": "execute_result"
    }
   ],
   "source": [
    "A.var()        # variance"
   ]
  },
  {
   "cell_type": "code",
   "execution_count": 96,
   "metadata": {},
   "outputs": [
    {
     "data": {
      "text/plain": [
       "1.0"
      ]
     },
     "execution_count": 96,
     "metadata": {},
     "output_type": "execute_result"
    }
   ],
   "source": [
    "np.median(A)   # median"
   ]
  },
  {
   "cell_type": "markdown",
   "metadata": {},
   "source": [
    "## Random numbers\n",
    "\n",
    "We can also generate arrays of certain dimentions filled with random numbers using the `np.random.randn` function. The generated numbers are sampled from a normal Guassian) distribution with 0 mean and 1 variace. Here is 2D array ($4 \\times 5$):"
   ]
  },
  {
   "cell_type": "code",
   "execution_count": 97,
   "metadata": {
    "scrolled": false
   },
   "outputs": [
    {
     "data": {
      "text/plain": [
       "array([[ 0.1504599 , -1.54276132,  1.86371847, -0.41172788, -1.21191735],\n",
       "       [-1.65152275,  1.30945645,  0.15379032,  0.56587434, -1.23171065],\n",
       "       [ 0.15039716, -0.00935314,  1.21383113, -0.28899702, -0.23905629],\n",
       "       [ 0.98869611,  0.80169239,  2.20215536, -0.28109672, -0.36992699]])"
      ]
     },
     "execution_count": 97,
     "metadata": {},
     "output_type": "execute_result"
    }
   ],
   "source": [
    "np.random.randn(4,5)"
   ]
  },
  {
   "cell_type": "markdown",
   "metadata": {},
   "source": [
    "which is equivalent to:"
   ]
  },
  {
   "cell_type": "code",
   "execution_count": 98,
   "metadata": {},
   "outputs": [
    {
     "data": {
      "text/plain": [
       "array([[ 1.03012758,  0.18088401,  0.62068695, -0.95785984, -0.26151262],\n",
       "       [-0.40779207, -1.04714339,  0.10403351,  0.67042491, -0.25250776],\n",
       "       [ 0.83411817,  0.05416066, -0.47361293, -0.03552149, -1.42660043],\n",
       "       [ 1.94337149,  1.90571345,  1.87555265,  0.2524749 , -0.03560416]])"
      ]
     },
     "execution_count": 98,
     "metadata": {},
     "output_type": "execute_result"
    }
   ],
   "source": [
    "np.random.normal(size=(4, 5))"
   ]
  },
  {
   "cell_type": "markdown",
   "metadata": {},
   "source": [
    "or"
   ]
  },
  {
   "cell_type": "code",
   "execution_count": 99,
   "metadata": {},
   "outputs": [
    {
     "data": {
      "text/plain": [
       "array([[ 1.49981753, -1.49883121, -1.17234127, -0.38384354, -0.26171825],\n",
       "       [-0.30675867,  0.03545516,  0.98524586,  0.36902094,  2.34546059],\n",
       "       [-0.0479879 , -0.84135049, -0.02573568,  1.55317242, -0.15702619],\n",
       "       [ 0.93334466, -0.52884597,  0.32978319,  2.68536452, -1.60521158]])"
      ]
     },
     "execution_count": 99,
     "metadata": {},
     "output_type": "execute_result"
    }
   ],
   "source": [
    "np.random.normal(loc=0, scale=1, size=(4, 5))"
   ]
  },
  {
   "cell_type": "markdown",
   "metadata": {},
   "source": [
    "But if you want random integers within a given range, use `np.random.randint`. For example, the following simulates rolling a die 100 times."
   ]
  },
  {
   "cell_type": "code",
   "execution_count": 100,
   "metadata": {
    "scrolled": true
   },
   "outputs": [
    {
     "data": {
      "text/plain": [
       "array([5, 6, 1, 1, 5, 3, 4, 3, 6, 2, 2, 3, 3, 2, 4, 4, 3, 6, 6, 1, 4, 1,\n",
       "       2, 5, 1, 5, 2, 4, 3, 6, 5, 6, 3, 3, 2, 6, 4, 1, 6, 5, 5, 1, 2, 6,\n",
       "       5, 4, 6, 1, 4, 6, 4, 4, 3, 2, 4, 3, 3, 1, 5, 2, 1, 1, 4, 1, 2, 6,\n",
       "       2, 5, 4, 6, 1, 6, 2, 6, 3, 4, 4, 6, 4, 1, 3, 5, 1, 2, 1, 1, 4, 5,\n",
       "       4, 5, 4, 3, 2, 4, 3, 6, 6, 6, 3, 2])"
      ]
     },
     "execution_count": 100,
     "metadata": {},
     "output_type": "execute_result"
    }
   ],
   "source": [
    "np.random.randint(1, 7, 100)"
   ]
  },
  {
   "cell_type": "markdown",
   "metadata": {},
   "source": [
    "A lot of times we want to be able to reproduce our randomized experiments. To so so we need to seed a pseudorandom generator and then use that generator to generate random numbers. Here is an a random generator seeded with the value 17."
   ]
  },
  {
   "cell_type": "code",
   "execution_count": 101,
   "metadata": {},
   "outputs": [],
   "source": [
    "rgen = np.random.RandomState(17)"
   ]
  },
  {
   "cell_type": "markdown",
   "metadata": {},
   "source": [
    "Now we can use this generator to create random arrays. Here are three random arrays: $2 \\times 4 \\times 3$, $3 \\times 3$, and one-dimentional."
   ]
  },
  {
   "cell_type": "code",
   "execution_count": 102,
   "metadata": {},
   "outputs": [
    {
     "data": {
      "text/plain": [
       "array([[[2, 2, 1],\n",
       "        [6, 5, 5],\n",
       "        [5, 2, 2],\n",
       "        [2, 1, 3]],\n",
       "\n",
       "       [[3, 4, 4],\n",
       "        [4, 2, 2],\n",
       "        [2, 6, 6],\n",
       "        [2, 1, 6]]])"
      ]
     },
     "execution_count": 102,
     "metadata": {},
     "output_type": "execute_result"
    }
   ],
   "source": [
    "rgen.randint(1, 7, size=(2, 4, 3))"
   ]
  },
  {
   "cell_type": "code",
   "execution_count": 103,
   "metadata": {},
   "outputs": [
    {
     "data": {
      "text/plain": [
       "array([[-0.98525081, -1.05703547, -2.05153126],\n",
       "       [ 1.21389446, -0.3884363 ,  1.37570986],\n",
       "       [-0.07229169, -0.07374186,  0.0852946 ]])"
      ]
     },
     "execution_count": 103,
     "metadata": {},
     "output_type": "execute_result"
    }
   ],
   "source": [
    "rgen.randn(3,3)"
   ]
  },
  {
   "cell_type": "code",
   "execution_count": 104,
   "metadata": {},
   "outputs": [
    {
     "data": {
      "text/plain": [
       "array([ 9.65202716,  8.15966352,  8.73116601, 10.50258947, 12.44943781,\n",
       "       10.17881968,  8.34026135, 10.94509223,  8.17656093,  9.70888585,\n",
       "        7.98072405, 10.36662361, 10.47850307, 12.53445862, 11.84434913,\n",
       "       11.00458003, 10.63107922, 10.70567988,  9.06736143, 10.67145563,\n",
       "       10.689168  ,  9.83351693,  9.28495304, 11.77781781,  4.59393349,\n",
       "        7.80193631,  9.95760942, 13.47938725, 13.41517309, 10.95356487,\n",
       "       10.6873841 ,  9.55517877, 10.81832625,  8.4658072 ,  7.86551697,\n",
       "        9.1114213 , 10.45921952, 11.70502529, 10.83455575, 12.02425194,\n",
       "       11.3696746 ,  7.5998159 ,  8.74145095, 11.64588045,  8.15715242,\n",
       "        9.84681331,  8.55671935, 14.47809847,  9.60828963, 10.34588629,\n",
       "        8.14942385, 10.03900555, 11.14511331, 10.47095418, 10.06738514,\n",
       "        9.98577212, 12.55131359, 12.00228501, 11.83816279, 11.10247757,\n",
       "       11.45638389, 10.87880382,  4.80454537, 10.13676316, 10.13206777,\n",
       "        8.55831996,  9.28222966,  4.50673256, 12.25536122,  9.96671377,\n",
       "       11.91720013,  5.4248372 , 10.15188262, 10.73933244,  8.30217018,\n",
       "        8.99860761,  8.23754982,  9.96158887, 11.04540395, 13.60747634,\n",
       "       10.6960897 ,  9.88605487, 10.04612421,  9.82821916, 10.21411973,\n",
       "       11.22898519, 12.4082351 , 11.56098077,  9.94687759, 11.61317105,\n",
       "        8.81844217,  7.91436046, 11.5381302 , 10.21032233, 11.11592308,\n",
       "        7.70355662, 10.55648411,  7.02632114,  9.16102175,  6.64697174])"
      ]
     },
     "execution_count": 104,
     "metadata": {},
     "output_type": "execute_result"
    }
   ],
   "source": [
    "rgen.normal(loc=10, scale=2, size=100)"
   ]
  },
  {
   "cell_type": "markdown",
   "metadata": {},
   "source": [
    "## Sorting and unique values\n",
    "Let's have the following array."
   ]
  },
  {
   "cell_type": "code",
   "execution_count": 105,
   "metadata": {},
   "outputs": [
    {
     "name": "stdout",
     "output_type": "stream",
     "text": [
      "[ 1  5  6  9  1  5 10  5  6 10  5  8  9  4  2  1  7  7  8  9]\n"
     ]
    }
   ],
   "source": [
    "dat = np.random.randint(1,11, 20)\n",
    "\n",
    "print(dat)"
   ]
  },
  {
   "cell_type": "markdown",
   "metadata": {},
   "source": [
    "We can sort this array in-place like this:"
   ]
  },
  {
   "cell_type": "code",
   "execution_count": 106,
   "metadata": {},
   "outputs": [
    {
     "name": "stdout",
     "output_type": "stream",
     "text": [
      "[ 1  1  1  2  4  5  5  5  5  6  6  7  7  8  8  9  9  9 10 10]\n"
     ]
    }
   ],
   "source": [
    "dat.sort()\n",
    "\n",
    "print(dat)"
   ]
  },
  {
   "cell_type": "markdown",
   "metadata": {},
   "source": [
    "And to get the unique values the make up this array, we write:"
   ]
  },
  {
   "cell_type": "code",
   "execution_count": 107,
   "metadata": {},
   "outputs": [
    {
     "data": {
      "text/plain": [
       "array([ 1,  2,  4,  5,  6,  7,  8,  9, 10])"
      ]
     },
     "execution_count": 107,
     "metadata": {},
     "output_type": "execute_result"
    }
   ],
   "source": [
    "np.unique(dat)"
   ]
  },
  {
   "cell_type": "markdown",
   "metadata": {},
   "source": [
    "## Concatenating arrays along an anxis\n",
    "We can take two arrays and concatenate them along an axis. For example, given the 2D arrays:"
   ]
  },
  {
   "cell_type": "code",
   "execution_count": 108,
   "metadata": {},
   "outputs": [
    {
     "name": "stdout",
     "output_type": "stream",
     "text": [
      "[[1 2 1]\n",
      " [3 0 1]\n",
      " [0 2 4]]\n",
      "[[3 1 2]\n",
      " [1 1 0]\n",
      " [1 3 1]]\n"
     ]
    }
   ],
   "source": [
    "print(A)\n",
    "print(B)"
   ]
  },
  {
   "cell_type": "markdown",
   "metadata": {},
   "source": [
    "Here is the concatenagion af A and B along the row axis (axis = 0: adding new rows)"
   ]
  },
  {
   "cell_type": "code",
   "execution_count": 109,
   "metadata": {
    "scrolled": true
   },
   "outputs": [
    {
     "data": {
      "text/plain": [
       "array([[1, 2, 1],\n",
       "       [3, 0, 1],\n",
       "       [0, 2, 4],\n",
       "       [3, 1, 2],\n",
       "       [1, 1, 0],\n",
       "       [1, 3, 1]])"
      ]
     },
     "execution_count": 109,
     "metadata": {},
     "output_type": "execute_result"
    }
   ],
   "source": [
    "np.concatenate([A, B], axis=0)"
   ]
  },
  {
   "cell_type": "markdown",
   "metadata": {},
   "source": [
    "And here is the concatenagion af A and B along the column axis (axis = 1: adding new columns)"
   ]
  },
  {
   "cell_type": "code",
   "execution_count": 110,
   "metadata": {},
   "outputs": [
    {
     "data": {
      "text/plain": [
       "array([[1, 2, 1, 3, 1, 2],\n",
       "       [3, 0, 1, 1, 1, 0],\n",
       "       [0, 2, 4, 1, 3, 1]])"
      ]
     },
     "execution_count": 110,
     "metadata": {},
     "output_type": "execute_result"
    }
   ],
   "source": [
    "np.concatenate([A, B], axis=1)"
   ]
  },
  {
   "cell_type": "markdown",
   "metadata": {},
   "source": [
    "## CHALLENGE 01\n",
    "Given the two array:"
   ]
  },
  {
   "cell_type": "code",
   "execution_count": 111,
   "metadata": {},
   "outputs": [],
   "source": [
    "A1 = np.array([[ 6, 10, 12],\n",
    "       [ 4,  2,  2],\n",
    "       [10,  4,  8]])"
   ]
  },
  {
   "cell_type": "markdown",
   "metadata": {},
   "source": [
    "and"
   ]
  },
  {
   "cell_type": "code",
   "execution_count": 112,
   "metadata": {},
   "outputs": [],
   "source": [
    "B1 = np.array([[ 2, 5],\n",
    "       [ 1,  0],\n",
    "       [3,  2]])"
   ]
  },
  {
   "cell_type": "markdown",
   "metadata": {},
   "source": [
    "Multiplying these two matrices gives us:"
   ]
  },
  {
   "cell_type": "code",
   "execution_count": 113,
   "metadata": {},
   "outputs": [
    {
     "data": {
      "text/plain": [
       "array([[58, 54],\n",
       "       [16, 24],\n",
       "       [48, 66]])"
      ]
     },
     "execution_count": 113,
     "metadata": {},
     "output_type": "execute_result"
    }
   ],
   "source": [
    "A1 @ B1"
   ]
  },
  {
   "cell_type": "markdown",
   "metadata": {},
   "source": [
    "Create a Python function that given to compatible matrices $A$ and $B$ performs the multiplication $A \\times B$  using pure python (use lists and loops) and no NumPy. Test your function by multiplying the `A1` and `B1` arrays above."
   ]
  },
  {
   "cell_type": "code",
   "execution_count": 114,
   "metadata": {
    "scrolled": true
   },
   "outputs": [],
   "source": [
    "# TODO"
   ]
  }
 ],
 "metadata": {
  "kernelspec": {
   "display_name": "Python 3",
   "language": "python",
   "name": "python3"
  },
  "language_info": {
   "codemirror_mode": {
    "name": "ipython",
    "version": 3
   },
   "file_extension": ".py",
   "mimetype": "text/x-python",
   "name": "python",
   "nbconvert_exporter": "python",
   "pygments_lexer": "ipython3",
   "version": "3.7.9"
  }
 },
 "nbformat": 4,
 "nbformat_minor": 4
}
